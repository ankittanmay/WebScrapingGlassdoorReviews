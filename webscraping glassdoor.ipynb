{
 "cells": [
  {
   "cell_type": "code",
   "execution_count": null,
   "metadata": {},
   "outputs": [],
   "source": []
  },
  {
   "cell_type": "code",
   "execution_count": 1,
   "metadata": {},
   "outputs": [],
   "source": [
    "#Importing packages\n",
    "from selenium import webdriver"
   ]
  },
  {
   "cell_type": "code",
   "execution_count": 2,
   "metadata": {},
   "outputs": [],
   "source": [
    "from bs4 import BeautifulSoup\n",
    "import requests\n",
    "import pandas as pd\n",
    "import numpy as np"
   ]
  },
  {
   "cell_type": "markdown",
   "metadata": {},
   "source": [
    "### Import webdriver from - https://chromedriver.chromium.org/getting-started"
   ]
  },
  {
   "cell_type": "code",
   "execution_count": 1,
   "metadata": {},
   "outputs": [],
   "source": [
    "from selenium import webdriver\n",
    "import selenium.webdriver.support.ui as ui\n",
    "from selenium.webdriver.common.keys import Keys\n",
    "from selenium.common.exceptions import NoSuchElementException\n",
    "from selenium.webdriver.common.by import By\n",
    "driver = webdriver.Chrome(executable_path=r\"C:\\Users\\a400491\\Documents\\OneID - Documents\\selenium\\chromedriver.exe\")"
   ]
  },
  {
   "cell_type": "code",
   "execution_count": null,
   "metadata": {},
   "outputs": [],
   "source": [
    "### Login to glassdoor from FB"
   ]
  },
  {
   "cell_type": "code",
   "execution_count": 4,
   "metadata": {},
   "outputs": [],
   "source": [
    "def fb_login():\n",
    "    driver.get (\"https://www.facebook.com\")\n",
    "    driver.find_element_by_id(\"email\").send_keys('ankittanmay2010@gmail.com')\n",
    "    driver.find_element_by_id('pass').send_keys('Nsnath@2018')\n",
    "    driver.find_element_by_id('loginbutton').click()"
   ]
  },
  {
   "cell_type": "code",
   "execution_count": 5,
   "metadata": {},
   "outputs": [],
   "source": [
    "fb_login()"
   ]
  },
  {
   "cell_type": "code",
   "execution_count": null,
   "metadata": {},
   "outputs": [],
   "source": []
  },
  {
   "cell_type": "code",
   "execution_count": null,
   "metadata": {},
   "outputs": [],
   "source": [
    "#### Specify the path of the url to be scraped\n",
    "path = \"https://www.glassdoor.co.in/Overview/Working-at-Larsen-and-Toubro-EI_IE41782.11,28.htm\""
   ]
  },
  {
   "cell_type": "markdown",
   "metadata": {},
   "source": [
    "### Writing the code fresh"
   ]
  },
  {
   "cell_type": "code",
   "execution_count": 46,
   "metadata": {},
   "outputs": [],
   "source": [
    "#### Parsing reviews on the first page and pulling the link of the review sire\n",
    "driver.get(path)\n",
    "\n",
    "driver.find_element_by_xpath('.//a[@class=\"eiCell cell reviews \"]').click()\n",
    "\n",
    "current_link = driver.current_url\n",
    "string_on_website = driver.find_element_by_xpath('.//div[@id = \"ReviewsFeed\"]').text\n",
    "parsed_string_text = [itm.split('\\n') for itm in string_on_website.split('Continue reading')]\n",
    "\n",
    "list_all_data = list()\n",
    "\n",
    "list_all_data.append(parsed_string_text)\n",
    "\n",
    "#### Finding the page no of the last page of reviews\n",
    "driver.get(current_link[:-4]+'_P9999.htm')\n",
    "last_page_number = driver.find_element_by_xpath('.//li[@class = \"pagination__PaginationStyle__page pagination__PaginationStyle__last\"]').text\n",
    "\n"
   ]
  },
  {
   "cell_type": "code",
   "execution_count": 49,
   "metadata": {},
   "outputs": [],
   "source": [
    "for itm in range(2,int(last_page_number)):\n",
    "    driver.get(current_link[:-4]+'_P'+str(itm)+'.htm')\n",
    "    string_on_website = driver.find_element_by_xpath('.//div[@id = \"ReviewsFeed\"]').text\n",
    "    parsed_string_text = [itm.split('\\n') for itm in string_on_website.split('Continue reading')]\n",
    "    list_all_data.append(parsed_string_text)\n",
    "    time.sleep(1)"
   ]
  },
  {
   "cell_type": "code",
   "execution_count": 50,
   "metadata": {},
   "outputs": [
    {
     "data": {
      "text/plain": [
       "300"
      ]
     },
     "execution_count": 50,
     "metadata": {},
     "output_type": "execute_result"
    }
   ],
   "source": [
    "len(list_all_data)"
   ]
  },
  {
   "cell_type": "code",
   "execution_count": 62,
   "metadata": {},
   "outputs": [],
   "source": [
    "list_all_data2 = list_all_data"
   ]
  },
  {
   "cell_type": "code",
   "execution_count": 64,
   "metadata": {},
   "outputs": [],
   "source": [
    "import operator\n",
    "from functools import reduce\n",
    "flattened_list_of_reviews =  reduce(operator.concat, list_all_data2)\n"
   ]
  },
  {
   "cell_type": "code",
   "execution_count": 65,
   "metadata": {},
   "outputs": [
    {
     "data": {
      "text/plain": [
       "2150"
      ]
     },
     "execution_count": 65,
     "metadata": {},
     "output_type": "execute_result"
    }
   ],
   "source": [
    "len(flattened_list_of_reviews)"
   ]
  },
  {
   "cell_type": "code",
   "execution_count": 66,
   "metadata": {},
   "outputs": [],
   "source": [
    "import pandas as pd"
   ]
  },
  {
   "cell_type": "code",
   "execution_count": 67,
   "metadata": {
    "scrolled": true
   },
   "outputs": [],
   "source": [
    "df_reviews = pd.DataFrame({\"review_block\":flattened_list_of_reviews })"
   ]
  },
  {
   "cell_type": "code",
   "execution_count": 77,
   "metadata": {
    "scrolled": true
   },
   "outputs": [
    {
     "data": {
      "text/plain": [
       "['8 May 2019',\n",
       " '\"Good workplace\"',\n",
       " ' I have been working at Larsen & Toubro',\n",
       " 'Pros',\n",
       " 'Good for the career startup',\n",
       " 'Cons',\n",
       " 'Nothing challenging excluding higher management.',\n",
       " 'Helpful',\n",
       " '16 April 2019',\n",
       " 'Helpful (2)',\n",
       " '\"Get\"',\n",
       " 'Former Employee - Anonymous Employee ',\n",
       " 'I worked at Larsen & Toubro full-time',\n",
       " 'Pros',\n",
       " 'Balance, salary, learning experience, leadership',\n",
       " 'Cons',\n",
       " 'Hectic, management issues, far off locations',\n",
       " 'Helpful (2)',\n",
       " 'Join the Larsen & Toubro team',\n",
       " 'See Our Latest Jobs',\n",
       " '7 May 2019',\n",
       " '\"production engineer\"',\n",
       " 'Current Employee - Production Supervisor in Coimbatore',\n",
       " 'I have been working at Larsen & Toubro full-time for more than 8 years',\n",
       " 'Pros',\n",
       " 'looking job change for carrier development',\n",
       " 'Cons',\n",
       " 'low investment for required project.',\n",
       " 'Helpful',\n",
       " '7 May 2019',\n",
       " '\"Good Company\"',\n",
       " 'Current Employee - Anonymous Employee ',\n",
       " 'Recommends',\n",
       " 'Positive Outlook',\n",
       " 'Approves of CEO',\n",
       " 'I have been working at Larsen & Toubro full-time',\n",
       " 'Pros',\n",
       " 'Learning and culture is great',\n",
       " 'Cons',\n",
       " 'Bureaucratic culture ensures slow decision making',\n",
       " '']"
      ]
     },
     "execution_count": 77,
     "metadata": {},
     "output_type": "execute_result"
    }
   ],
   "source": [
    "df_reviews.review_block[219]"
   ]
  },
  {
   "cell_type": "code",
   "execution_count": 78,
   "metadata": {},
   "outputs": [],
   "source": [
    "df_reviews.to_csv('l&t_glassdoor_reviews.csv')"
   ]
  }
 ],
 "metadata": {
  "kernelspec": {
   "display_name": "Python 3",
   "language": "python",
   "name": "python3"
  },
  "language_info": {
   "codemirror_mode": {
    "name": "ipython",
    "version": 3
   },
   "file_extension": ".py",
   "mimetype": "text/x-python",
   "name": "python",
   "nbconvert_exporter": "python",
   "pygments_lexer": "ipython3",
   "version": "3.7.3"
  }
 },
 "nbformat": 4,
 "nbformat_minor": 2
}
